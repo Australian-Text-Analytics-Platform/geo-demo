{
 "nbformat": 4,
 "nbformat_minor": 0,
 "metadata": {
  "colab": {
   "provenance": []
  },
  "kernelspec": {
   "name": "python3",
   "display_name": "Python 3"
  },
  "language_info": {
   "name": "python"
  }
 },
 "cells": [
  {
   "cell_type": "markdown",
   "source": [
    "# Geocode a list of placenames using TLC\n",
    "\n",
    "Read in a CSV file containing placenames (country, capital etc) and query the [TLC map API](https://tlcmap.org/help/guides/ghap-guide/#ws) to return latitudes and longitudes for each of them.\n",
    "\n",
    "This code was derived from [ATAP geolocation tools workshop](https://github.com/Australian-Text-Analytics-Platform/geolocation-tools-workshop) notebooks."
   ],
   "metadata": {
    "id": "POrShwoSXqj4"
   }
  },
  {
   "cell_type": "markdown",
   "source": [
    "## Install and import required dependencies"
   ],
   "metadata": {
    "id": "bO_YnAlUbbBL"
   }
  },
  {
   "cell_type": "code",
   "source": [
    "!pip install pandas\n",
    "!pip install ratelimit"
   ],
   "metadata": {
    "colab": {
     "base_uri": "https://localhost:8080/"
    },
    "id": "H5w8VOmnM60Y",
    "outputId": "61811b89-202e-477b-f519-ce154aa7838d"
   },
   "execution_count": 1,
   "outputs": [
    {
     "output_type": "stream",
     "name": "stdout",
     "text": [
      "Looking in indexes: https://pypi.org/simple, https://us-python.pkg.dev/colab-wheels/public/simple/\n",
      "Requirement already satisfied: pandas in /usr/local/lib/python3.10/dist-packages (1.5.3)\n",
      "Requirement already satisfied: python-dateutil>=2.8.1 in /usr/local/lib/python3.10/dist-packages (from pandas) (2.8.2)\n",
      "Requirement already satisfied: pytz>=2020.1 in /usr/local/lib/python3.10/dist-packages (from pandas) (2022.7.1)\n",
      "Requirement already satisfied: numpy>=1.21.0 in /usr/local/lib/python3.10/dist-packages (from pandas) (1.22.4)\n",
      "Requirement already satisfied: six>=1.5 in /usr/local/lib/python3.10/dist-packages (from python-dateutil>=2.8.1->pandas) (1.16.0)\n",
      "Looking in indexes: https://pypi.org/simple, https://us-python.pkg.dev/colab-wheels/public/simple/\n",
      "Requirement already satisfied: ratelimit in /usr/local/lib/python3.10/dist-packages (2.2.1)\n"
     ]
    }
   ]
  },
  {
   "cell_type": "code",
   "source": [
    "import urllib\n",
    "import pandas as pd\n",
    "import requests\n",
    "import json\n",
    "from ratelimit import limits, sleep_and_retry"
   ],
   "metadata": {
    "id": "qAv51ki1NKCj"
   },
   "execution_count": 2,
   "outputs": []
  },
  {
   "cell_type": "markdown",
   "source": [
    "Querying the TLC database requires construction of URLs for each name, and handling multiple responses. The following code will build the query strings and perform the API requests. The TLC API has limits on how many requests can be performed. To stay within the limits, you may need to adjust `TLC_query_delay` below."
   ],
   "metadata": {
    "id": "lLMiVlTEa9Sb"
   }
  },
  {
   "cell_type": "code",
   "execution_count": 3,
   "metadata": {
    "id": "IkEyOEoOMv4P"
   },
   "outputs": [],
   "source": [
    "# Build a url to query the tlcmap/ghap API.\n",
    "# - placename: the place we're trying to locate\n",
    "# - search_type: what search type to use (accepts one of ['contains','fuzzy','exact'])\n",
    "# ref: https://www.tlcmap.org/guides/ghap/#ws\n",
    "def tlc_build_url(placename: str,\n",
    "                  search_type: str,\n",
    "                  search_public_data: bool = False,\n",
    "                  TLCMap_limit: int = 1\n",
    "                  ) -> str:\n",
    "\n",
    "    safe_placename = urllib.parse.quote(placename.strip().lower())\n",
    "\n",
    "    url = f\"https://tlcmap.org/ghap/search?\"\n",
    "\n",
    "    if search_type == \"fuzzy\":\n",
    "        url += f\"fuzzyname={safe_placename}\"\n",
    "    elif search_type == \"exact\":\n",
    "        url += f\"name={safe_placename}\"\n",
    "    elif search_type == \"contains\":\n",
    "        url += f\"containsname={safe_placename}\"\n",
    "    else:\n",
    "        return None\n",
    "\n",
    "    # Search Australian National Placenames Survey provided data\n",
    "    url += \"&searchausgaz=on\"\n",
    "\n",
    "    # Search public provided data, this data could be unreliable\n",
    "    if search_public_data == True:\n",
    "        url += \"&searchpublicdatasets=on\"\n",
    "    else:\n",
    "        url += \"&searchpublicdatasets=off\"\n",
    "\n",
    "    # Retrieve data as JSON\n",
    "    url += \"&format=json\"\n",
    "\n",
    "    # Limit the number of results\n",
    "    url += \"&paging=\" + str(TLCMap_limit)\n",
    "\n",
    "    return url\n",
    "\n",
    "\n",
    "# Send rate-limited requests that stay within 1 query per n seconds\n",
    "# number of seconds between queries\n",
    "TLC_query_delay = 5\n",
    "\n",
    "@sleep_and_retry\n",
    "@limits(calls=1, period=TLC_query_delay)\n",
    "def tlc_call_api(url):\n",
    "    r = requests.get(url)\n",
    "    if r.url == \"https://tlcmap.org/ghap/maxpaging\":\n",
    "        return None\n",
    "\n",
    "    # If the reply says the placename wasn't found, customise the JSON data for the reply\n",
    "    if r.content.decode() == \"No search results to display.\":\n",
    "        # This should have obviously just be an empty list of features, but TLCMap is badly behaved\n",
    "        response = json.loads('{\"type\": \"FeatureCollection\",\"metadata\": {},\"features\": []}')\n",
    "    # SUCCESS! Record the spatial data provided in the reply\n",
    "    elif r.ok:\n",
    "        response = r.json()  # get [lon, lat] etc. for spatial matches\n",
    "\n",
    "    return response\n",
    "\n",
    "\n",
    "# Use TLCMap/GHAP API to check a placename\n",
    "def tlc_query_name(placename: str,\n",
    "                   search_type: str,\n",
    "                   search_public_data: bool,\n",
    "                   TLCMap_limit: int):\n",
    "\n",
    "    url = tlc_build_url(placename, search_type, search_public_data, TLCMap_limit)\n",
    "    if url:\n",
    "        return tlc_call_api(url)\n",
    "\n",
    "    return None\n"
   ]
  },
  {
   "cell_type": "markdown",
   "source": [
    "## Data preparation"
   ],
   "metadata": {
    "id": "v-WWUG0GcTWv"
   }
  },
  {
   "cell_type": "code",
   "source": [
    "# placenames = [\"Caloundra\", \"Brisbane\"]\n",
    "\n",
    "placenames_df = pd.read_csv('placenames.csv')\n",
    "placenames = placenames_df['LocationName'].tolist()\n",
    "\n",
    "print(placenames)"
   ],
   "metadata": {
    "colab": {
     "base_uri": "https://localhost:8080/"
    },
    "id": "qfy5WQRDcCzd",
    "outputId": "1520afd7-36f0-4c7d-f0d6-88efedaf201e"
   },
   "execution_count": 4,
   "outputs": [
    {
     "output_type": "stream",
     "name": "stdout",
     "text": [
      "['Melbourne', 'Brisbane', 'Perth', 'Darwin', 'Alice Springs', 'Ballarat', 'Canberra', 'Hobart', 'Hobart Town', 'Adelaide', 'Sydney', 'New South Wales', 'Victoria', 'Queensland', 'Tasmania', 'Northern Territory']\n"
     ]
    }
   ]
  },
  {
   "cell_type": "markdown",
   "source": [
    "## Query the TLC database"
   ],
   "metadata": {
    "id": "EjAEVQilV4A5"
   }
  },
  {
   "cell_type": "markdown",
   "source": [
    "First, set some parameters which will affect the performance of the search, and how many results we want to handle."
   ],
   "metadata": {
    "id": "G2kcxmp_avZj"
   }
  },
  {
   "cell_type": "code",
   "source": [
    "# Which order to do different searches for known locations?\n",
    "# Alt values: 'exact', 'fuzzy', 'contains'\n",
    "search_type = \"exact\"\n",
    "\n",
    "# Flag whether to use data provided by the public\n",
    "search_public_data = False\n",
    "\n",
    "# How many (max) results do we want for each name?\n",
    "TLCMap_limit = 1"
   ],
   "metadata": {
    "id": "ZaFGhlpFNmUs"
   },
   "execution_count": 8,
   "outputs": []
  },
  {
   "cell_type": "markdown",
   "source": [
    "Iterate a list of names and compile the results"
   ],
   "metadata": {
    "id": "qSK5i4aMa4TQ"
   }
  },
  {
   "cell_type": "code",
   "source": [
    "results = []\n",
    "\n",
    "for name in placenames:\n",
    "\n",
    "  response = tlc_query_name(name, search_type, search_public_data, TLCMap_limit)\n",
    "\n",
    "  for feature in response[\"features\"]:\n",
    "    print(feature)\n",
    "    feature_cleaned = [feature[\"properties\"][\"name\"],\n",
    "                      feature[\"geometry\"][\"coordinates\"][1],\n",
    "                      feature[\"geometry\"][\"coordinates\"][0]]\n",
    "    results.append(feature_cleaned)\n",
    "\n",
    "results"
   ],
   "metadata": {
    "colab": {
     "base_uri": "https://localhost:8080/"
    },
    "id": "XEK3JPCcNw9r",
    "outputId": "d457e0dd-a6ba-4b8c-b6ac-1bb3730d9afa"
   },
   "execution_count": 9,
   "outputs": [
    {
     "output_type": "stream",
     "name": "stdout",
     "text": [
      "{'type': 'Feature', 'geometry': {'type': 'Point', 'coordinates': [144.97224010000005, -37.8135365]}, 'properties': {'name': 'Melbourne', 'placename': 'Melbourne', 'id': 'ta7e9', 'datestart': '1945-01-01', 'dateend': '1974-01-01', 'latitude': '-37.8135365', 'longitude': '144.97224010000005', 'linkback': 'HARROP, MITCHELL; MAY, ANDREW (2022): Candidate places for the Gazetteer of Historical Australian Places. University of Melbourne. Dataset. https://doi.org/10.26188/20346825.v220', 'TLCMapLinkBack': 'https://ghap.tlcmap.org/search?id=ta7e9', 'TLCMapDataset': 'https://ghap.tlcmap.org/publicdatasets/222', 'BUSTYPE': 'Clubs - Social', 'ADDRESS': 'Melbourne, 36 Collins-St, Melb., C.1', 'ANZSIC_SUB': '453', 'ANZS_STTL': 'Clubs (Hospitality)', 'VICMAPADD': '36-50 COLLINS STREET MELBOURNE 3000', 'LGA': '', 'State': 'VIC'}}\n",
      "{'type': 'Feature', 'geometry': {'type': 'Point', 'coordinates': [153.023502, -27.470933]}, 'properties': {'name': 'Brisbane', 'placename': 'Brisbane', 'description': \"A venue from The Australian Live Performance Database 'AusStage'.\", 'id': 'tecbc', 'state': 'QLD', 'datestart': '1859-12-26', 'dateend': '2019-11-27', 'latitude': '-27.470933', 'longitude': '153.023502', 'linkback': 'https://www.ausstage.edu.au/pages/venue/3839', 'TLCMapLinkBack': 'https://ghap.tlcmap.org/search?id=tecbc', 'TLCMapDataset': 'https://ghap.tlcmap.org/publicdatasets/379', 'original_id': '3839', 'street': '', 'suburb': 'Brisbane', 'postcode': '4000', 'web_links': ''}}\n",
      "{'type': 'Feature', 'geometry': {'type': 'Point', 'coordinates': [115.857, -31.951]}, 'properties': {'name': 'Perth', 'placename': 'Perth', 'description': \"A venue from The Australian Live Performance Database 'AusStage'.\", 'id': 'tef1a', 'state': 'WA', 'datestart': '1889-04-10', 'dateend': '2020-03-01', 'latitude': '-31.951', 'longitude': '115.857', 'linkback': 'https://www.ausstage.edu.au/pages/venue/4547', 'TLCMapLinkBack': 'https://ghap.tlcmap.org/search?id=tef1a', 'TLCMapDataset': 'https://ghap.tlcmap.org/publicdatasets/379', 'original_id': '4547', 'street': '', 'suburb': 'Perth', 'postcode': '6000', 'web_links': ''}}\n",
      "{'type': 'Feature', 'geometry': {'type': 'Point', 'coordinates': [130.8416748, -12.45803272]}, 'properties': {'name': 'Darwin', 'id': 't706b', 'latitude': '-12.45803272', 'longitude': '130.8416748', 'linkback': 'https://nla.gov.au/nla.obj-233091362/view', 'TLCMapLinkBack': 'https://ghap.tlcmap.org/search?id=t706b', 'TLCMapDataset': 'https://ghap.tlcmap.org/publicdatasets/150', 'Description': 'Northern trucking yards (Railway trucking yards), Northern Territory of Australia pastoral map [stock routes], 1956', 'Note': 'Railway trucking yards', 'Route': 'Northern trucking yards'}}\n",
      "{'type': 'Feature', 'geometry': {'type': 'Point', 'coordinates': [133.7420654, -23.8858377]}, 'properties': {'name': 'Alice Springs', 'id': 't7043', 'latitude': '-23.8858377', 'longitude': '133.7420654', 'linkback': 'https://nla.gov.au/nla.obj-233091362/view', 'TLCMapLinkBack': 'https://ghap.tlcmap.org/search?id=t7043', 'TLCMapDataset': 'https://ghap.tlcmap.org/publicdatasets/150', 'Description': 'North South Stock Route (Railway trucking yards), Northern Territory of Australia pastoral map [stock routes], 1956', 'Note': 'Railway trucking yards', 'Route': 'North South'}}\n",
      "{'type': 'Feature', 'geometry': {'type': 'Point', 'coordinates': [143.8587494, -37.55902863]}, 'properties': {'name': 'Ballarat', 'id': 't2741', 'latitude': '-37.55902863', 'longitude': '143.8587494', 'TLCMapLinkBack': 'https://ghap.tlcmap.org/search?id=t2741', 'TLCMapDataset': 'https://ghap.tlcmap.org/publicdatasets/118'}}\n",
      "{'type': 'Feature', 'geometry': {'type': 'Point', 'coordinates': [149.1330556, -35.29972222]}, 'properties': {'name': 'Canberra', 'id': 't2742', 'latitude': '-35.29972222', 'longitude': '149.1330556', 'TLCMapLinkBack': 'https://ghap.tlcmap.org/search?id=t2742', 'TLCMapDataset': 'https://ghap.tlcmap.org/publicdatasets/118'}}\n",
      "{'type': 'Feature', 'geometry': {'type': 'Point', 'coordinates': [147.32516600682, -42.88249709631]}, 'properties': {'name': 'Hobart', 'placename': 'Hobart', 'description': \"A venue from The Australian Live Performance Database 'AusStage'.\", 'id': 'tf679', 'state': 'TAS', 'datestart': '1836-06-01', 'dateend': '2011-01-01', 'latitude': '-42.88249709631', 'longitude': '147.32516600682', 'linkback': 'https://www.ausstage.edu.au/pages/venue/12056', 'TLCMapLinkBack': 'https://ghap.tlcmap.org/search?id=tf679', 'TLCMapDataset': 'https://ghap.tlcmap.org/publicdatasets/379', 'original_id': '12056', 'street': '', 'suburb': 'Hobart', 'postcode': '7000', 'web_links': ''}}\n",
      "{'type': 'Feature', 'geometry': {'type': 'Point', 'coordinates': [138.599709, -34.925458]}, 'properties': {'name': 'Adelaide', 'placename': 'Adelaide', 'description': \"A venue from The Australian Live Performance Database 'AusStage'.\", 'id': 'tf32b', 'state': 'SA', 'datestart': '1838-03-01', 'dateend': '2022-06-25', 'latitude': '-34.925458', 'longitude': '138.599709', 'linkback': 'https://www.ausstage.edu.au/pages/venue/11074', 'TLCMapLinkBack': 'https://ghap.tlcmap.org/search?id=tf32b', 'TLCMapDataset': 'https://ghap.tlcmap.org/publicdatasets/379', 'original_id': '11074', 'street': '', 'suburb': 'Adelaide', 'postcode': '5000', 'web_links': ''}}\n",
      "{'type': 'Feature', 'geometry': {'type': 'Point', 'coordinates': [151.207089, -33.868901]}, 'properties': {'name': 'Sydney', 'placename': 'Sydney', 'description': \"A venue from The Australian Live Performance Database 'AusStage'.\", 'id': 'teee2', 'state': 'NSW', 'datestart': '1854-01-01', 'dateend': '2021-01-26', 'latitude': '-33.868901', 'longitude': '151.207089', 'linkback': 'https://www.ausstage.edu.au/pages/venue/4483', 'TLCMapLinkBack': 'https://ghap.tlcmap.org/search?id=teee2', 'TLCMapDataset': 'https://ghap.tlcmap.org/publicdatasets/379', 'original_id': '4483', 'street': '', 'suburb': 'Sydney', 'postcode': '2000', 'web_links': ''}}\n",
      "{'type': 'Feature', 'geometry': {'type': 'Point', 'coordinates': [147.0321716843, -32.16291878689]}, 'properties': {'name': 'New South Wales', 'placename': 'New South Wales', 'description': \"A venue from The Australian Live Performance Database 'AusStage'.\", 'id': 'tef75', 'state': 'NSW', 'datestart': '1932-11-12', 'dateend': '2016-11-30', 'latitude': '-32.16291878689', 'longitude': '147.0321716843', 'linkback': 'https://www.ausstage.edu.au/pages/venue/4647', 'TLCMapLinkBack': 'https://ghap.tlcmap.org/search?id=tef75', 'TLCMapDataset': 'https://ghap.tlcmap.org/publicdatasets/379', 'original_id': '4647', 'street': '', 'suburb': '', 'postcode': '', 'web_links': ''}}\n",
      "{'type': 'Feature', 'geometry': {'type': 'Point', 'coordinates': [144.27023474743, -36.62860680245]}, 'properties': {'name': 'Victoria', 'placename': 'Victoria', 'description': \"A venue from The Australian Live Performance Database 'AusStage'.\", 'id': 'tea0f', 'state': 'VIC', 'datestart': '1854-12-11', 'dateend': '2013-09-20', 'latitude': '-36.62860680245', 'longitude': '144.27023474743', 'linkback': 'https://www.ausstage.edu.au/pages/venue/3017', 'TLCMapLinkBack': 'https://ghap.tlcmap.org/search?id=tea0f', 'TLCMapDataset': 'https://ghap.tlcmap.org/publicdatasets/379', 'original_id': '3017', 'street': '', 'suburb': '', 'postcode': '', 'web_links': ''}}\n",
      "{'type': 'Feature', 'geometry': {'type': 'Point', 'coordinates': [144.54686275043, -21.61718799541]}, 'properties': {'name': 'Queensland', 'placename': 'Queensland', 'description': \"A venue from The Australian Live Performance Database 'AusStage'.\", 'id': 'te9fa', 'state': 'QLD', 'datestart': '1912-07-04', 'dateend': '2021-11-08', 'latitude': '-21.61718799541', 'longitude': '144.54686275043', 'linkback': 'https://www.ausstage.edu.au/pages/venue/2987', 'TLCMapLinkBack': 'https://ghap.tlcmap.org/search?id=te9fa', 'TLCMapDataset': 'https://ghap.tlcmap.org/publicdatasets/379', 'original_id': '2987', 'street': '', 'suburb': '', 'postcode': '', 'web_links': ''}}\n",
      "{'type': 'Feature', 'geometry': {'type': 'Point', 'coordinates': [146.59839932432, -41.9132931693]}, 'properties': {'name': 'Tasmania', 'placename': 'Tasmania', 'description': \"A venue from The Australian Live Performance Database 'AusStage'.\", 'id': 'te9f3', 'state': 'TAS', 'datestart': '1914-03-13', 'dateend': '2021-11-12', 'latitude': '-41.9132931693', 'longitude': '146.59839932432', 'linkback': 'https://www.ausstage.edu.au/pages/venue/2977', 'TLCMapLinkBack': 'https://ghap.tlcmap.org/search?id=te9f3', 'TLCMapDataset': 'https://ghap.tlcmap.org/publicdatasets/379', 'original_id': '2977', 'street': '', 'suburb': '', 'postcode': '', 'web_links': ''}}\n",
      "{'type': 'Feature', 'geometry': {'type': 'Point', 'coordinates': [133.99211729881, -19.18328046774]}, 'properties': {'name': 'Northern Territory', 'placename': 'Northern Territory', 'description': \"A venue from The Australian Live Performance Database 'AusStage'.\", 'id': 'teac8', 'state': 'NT', 'datestart': '1974-09-30', 'dateend': '2008-01-01', 'latitude': '-19.18328046774', 'longitude': '133.99211729881', 'linkback': 'https://www.ausstage.edu.au/pages/venue/3254', 'TLCMapLinkBack': 'https://ghap.tlcmap.org/search?id=teac8', 'TLCMapDataset': 'https://ghap.tlcmap.org/publicdatasets/379', 'original_id': '3254', 'street': '', 'suburb': '', 'postcode': '', 'web_links': ''}}\n"
     ]
    },
    {
     "output_type": "execute_result",
     "data": {
      "text/plain": [
       "[['Melbourne', -37.8135365, 144.97224010000005],\n",
       " ['Brisbane', -27.470933, 153.023502],\n",
       " ['Perth', -31.951, 115.857],\n",
       " ['Darwin', -12.45803272, 130.8416748],\n",
       " ['Alice Springs', -23.8858377, 133.7420654],\n",
       " ['Ballarat', -37.55902863, 143.8587494],\n",
       " ['Canberra', -35.29972222, 149.1330556],\n",
       " ['Hobart', -42.88249709631, 147.32516600682],\n",
       " ['Adelaide', -34.925458, 138.599709],\n",
       " ['Sydney', -33.868901, 151.207089],\n",
       " ['New South Wales', -32.16291878689, 147.0321716843],\n",
       " ['Victoria', -36.62860680245, 144.27023474743],\n",
       " ['Queensland', -21.61718799541, 144.54686275043],\n",
       " ['Tasmania', -41.9132931693, 146.59839932432],\n",
       " ['Northern Territory', -19.18328046774, 133.99211729881]]"
      ]
     },
     "metadata": {},
     "execution_count": 9
    }
   ]
  },
  {
   "cell_type": "markdown",
   "source": [
    "## Export the data\n",
    "\n",
    "Format the data into a dataframe for export."
   ],
   "metadata": {
    "id": "PL5iFxzhV-VW"
   }
  },
  {
   "cell_type": "code",
   "source": [
    "results_df = pd.DataFrame(results, columns=[\"Placename\", \"Latitude\", \"Longitude\"])\n",
    "results_df.to_csv('geocoded-data.csv', index=False)\n",
    "print(results_df)\n"
   ],
   "metadata": {
    "colab": {
     "base_uri": "https://localhost:8080/"
    },
    "id": "t5Xa4g1AOo_h",
    "outputId": "86ea5487-3ccc-4332-8715-9f3335406fdf"
   },
   "execution_count": 10,
   "outputs": [
    {
     "output_type": "stream",
     "name": "stdout",
     "text": [
      "             Placename   Latitude   Longitude\n",
      "0            Melbourne -37.813536  144.972240\n",
      "1             Brisbane -27.470933  153.023502\n",
      "2                Perth -31.951000  115.857000\n",
      "3               Darwin -12.458033  130.841675\n",
      "4        Alice Springs -23.885838  133.742065\n",
      "5             Ballarat -37.559029  143.858749\n",
      "6             Canberra -35.299722  149.133056\n",
      "7               Hobart -42.882497  147.325166\n",
      "8             Adelaide -34.925458  138.599709\n",
      "9               Sydney -33.868901  151.207089\n",
      "10     New South Wales -32.162919  147.032172\n",
      "11            Victoria -36.628607  144.270235\n",
      "12          Queensland -21.617188  144.546863\n",
      "13            Tasmania -41.913293  146.598399\n",
      "14  Northern Territory -19.183280  133.992117\n"
     ]
    }
   ]
  }
 ]
}
