{
 "nbformat": 4,
 "nbformat_minor": 0,
 "metadata": {
  "colab": {
   "provenance": []
  },
  "kernelspec": {
   "name": "python3",
   "display_name": "Python 3"
  },
  "language_info": {
   "name": "python"
  }
 },
 "cells": [
  {
   "cell_type": "markdown",
   "source": [
    "# Geocode a list of placenames using OpenStreetMaps API\n",
    "\n",
    "This notebook will read placenames from a CSV file and query the [OpenStreetMap Geocoder API](https://geocoder.readthedocs.io/providers/OpenStreetMap.html) to return latitudes and longitudes for each of the names.\n",
    "\n",
    "This code was derived from [ATAP geolocation tools workshop](https://github.com/Australian-Text-Analytics-Platform/geolocation-tools-workshop) notebooks.\n",
    "\n",
    "## Pre-requirements\n",
    "\n",
    "1) Create a CSV file containing placenames.\n",
    "\n",
    "2) Upload the CSV file to this notebook.\n"
   ],
   "metadata": {
    "id": "in2kM1OSGJGK"
   }
  },
  {
   "cell_type": "markdown",
   "source": [
    "## Install and import required dependencies"
   ],
   "metadata": {
    "id": "j1c82okPZlJi"
   }
  },
  {
   "cell_type": "code",
   "source": [
    "!pip install pandas\n",
    "!pip install geocoder"
   ],
   "metadata": {
    "id": "c2C75WUG_jTl"
   },
   "execution_count": null,
   "outputs": []
  },
  {
   "cell_type": "code",
   "execution_count": null,
   "metadata": {
    "id": "ieLLFIi-8fnw"
   },
   "outputs": [],
   "source": [
    "import pandas as pd\n",
    "import geocoder"
   ]
  },
  {
   "cell_type": "markdown",
   "source": [
    "## Prepare the data\n",
    "\n",
    "The following code will read the entire CSV. It's OK if the CSV file includes other data such as source information. Change the name of the file in the next code cell from `Aust_Colony_Placename.csv` to suit your file."
   ],
   "metadata": {
    "id": "Py_8t52FU37B"
   }
  },
  {
   "cell_type": "code",
   "source": [
    "placenames_df = pd.read_csv('placenames.csv')"
   ],
   "metadata": {
    "id": "OtqM55L7F4rg"
   },
   "execution_count": null,
   "outputs": []
  },
  {
   "cell_type": "markdown",
   "source": [
    "The next code cell will extract just the name data as a list. Change the name of the column from `LocationName` to suit the name of the column in your data that contains placenames."
   ],
   "metadata": {
    "id": "hw3E1BQvVLdv"
   }
  },
  {
   "cell_type": "code",
   "source": [
    "placenames = placenames_df['LocationName'].tolist()\n",
    "print(placenames)"
   ],
   "metadata": {
    "id": "bsLDq2mkVMpe"
   },
   "execution_count": null,
   "outputs": []
  },
  {
   "cell_type": "markdown",
   "source": [
    "## Query the OSM API for each name"
   ],
   "metadata": {
    "id": "2FZa-YuVGbvg"
   }
  },
  {
   "cell_type": "code",
   "source": [
    "results = []\n",
    "\n",
    "for item in placenames[0:5]:\n",
    "    print(f'Lookup {item}')\n",
    "    g = geocoder.osm(item)\n",
    "    if g.ok:\n",
    "        results.append([item, g.latlng[0], g.latlng[1]])\n",
    "    else:\n",
    "        print(f'{item} not found')"
   ],
   "metadata": {
    "id": "7AdR_NsEIEjv"
   },
   "execution_count": null,
   "outputs": []
  },
  {
   "cell_type": "markdown",
   "source": [
    "## Export the data\n",
    "\n",
    "Format the data into a dataframe for export."
   ],
   "metadata": {
    "id": "6mxdl-2BVj-M"
   }
  },
  {
   "cell_type": "code",
   "source": [
    "results_df = pd.DataFrame(results, columns=[\"Placename\", \"Latitude\", \"Longitude\"])\n",
    "results_df.to_csv('geocoded-data.csv', index=False)\n",
    "print(results_df)\n"
   ],
   "metadata": {
    "id": "dkk5u4RxE807"
   },
   "execution_count": null,
   "outputs": []
  }
 ]
}
